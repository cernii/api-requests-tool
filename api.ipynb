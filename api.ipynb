{
 "cells": [
  {
   "cell_type": "code",
   "execution_count": 20,
   "id": "34d3d1fa",
   "metadata": {
    "vscode": {
     "languageId": "shellscript"
    }
   },
   "outputs": [],
   "source": [
    "# Set the maximum output display width\n",
    "%config InteractiveShell.display_text.ipython_strwidth = 1500\n"
   ]
  },
  {
   "cell_type": "code",
   "execution_count": 21,
   "id": "3283d8b7",
   "metadata": {
    "vscode": {
     "languageId": "shellscript"
    }
   },
   "outputs": [],
   "source": [
    "# Set up request url\n",
    "api_url = \"https://jsonplaceholder.typicode.com/posts/1\"\n"
   ]
  },
  {
   "cell_type": "code",
   "execution_count": 22,
   "id": "fb0a55cf",
   "metadata": {
    "vscode": {
     "languageId": "shellscript"
    }
   },
   "outputs": [],
   "source": [
    "# Set up request method\n",
    "api_method = 'GET'\n"
   ]
  },
  {
   "cell_type": "code",
   "execution_count": 23,
   "id": "02d9808d",
   "metadata": {
    "vscode": {
     "languageId": "shellscript"
    }
   },
   "outputs": [],
   "source": [
    "# Set up request headers\n",
    "request_headers = {'Content-Type': 'application/json'}\n"
   ]
  },
  {
   "cell_type": "code",
   "execution_count": 24,
   "id": "1a14e555",
   "metadata": {
    "vscode": {
     "languageId": "shellscript"
    }
   },
   "outputs": [],
   "source": [
    "# Set up request body\n",
    "request_body = '{\"title\": \"foo\", \"body\": \"bar\", \"userId\": 1}'\n"
   ]
  },
  {
   "cell_type": "code",
   "execution_count": 25,
   "id": "e7d45efb",
   "metadata": {
    "vscode": {
     "languageId": "shellscript"
    }
   },
   "outputs": [],
   "source": [
    "# Set up request query parameters\n",
    "request_params = ''\n"
   ]
  },
  {
   "cell_type": "code",
   "execution_count": 26,
   "metadata": {},
   "outputs": [
    {
     "name": "stdout",
     "output_type": "stream",
     "text": [
      "\n",
      "Request URL: https://jsonplaceholder.typicode.com/posts/1\n",
      "\n",
      "Request Method: GET\n",
      "\n",
      "Response Status Code: 200\n",
      "\n",
      "Response Headers:\n",
      "  Date: Fri, 05 Jan 2024 14:32:54 GMT\n",
      "  Content-Type: application/json; charset=utf-8\n",
      "  Transfer-Encoding: chunked\n",
      "  Connection: keep-alive\n",
      "  Report-To: {\"group\":\"heroku-nel\",\"max_age\":3600,\"endpoints\":[{\"url\":\"https://nel.heroku.com/reports?ts=1701293424&sid=e11707d5-02a7-43ef-b45e-2cf4d2036f7d&s=QuwAobTYED%2FFYwhn2MIgOOElwG1P%2F2ABz%2BL4X7fAZu8%3D\"}]}\n",
      "  Reporting-Endpoints: heroku-nel=https://nel.heroku.com/reports?ts=1701293424&sid=e11707d5-02a7-43ef-b45e-2cf4d2036f7d&s=QuwAobTYED%2FFYwhn2MIgOOElwG1P%2F2ABz%2BL4X7fAZu8%3D\n",
      "  Nel: {\"report_to\":\"heroku-nel\",\"max_age\":3600,\"success_fraction\":0.005,\"failure_fraction\":0.05,\"response_headers\":[\"Via\"]}\n",
      "  X-Powered-By: Express\n",
      "  X-Ratelimit-Limit: 1000\n",
      "  X-Ratelimit-Remaining: 999\n",
      "  X-Ratelimit-Reset: 1701293470\n",
      "  Vary: Origin, Accept-Encoding\n",
      "  Access-Control-Allow-Credentials: true\n",
      "  Cache-Control: max-age=43200\n",
      "  Pragma: no-cache\n",
      "  Expires: -1\n",
      "  X-Content-Type-Options: nosniff\n",
      "  Etag: W/\"124-yiKdLzqO5gfBrJFrcdJ8Yq0LGnU\"\n",
      "  Via: 1.1 vegur\n",
      "  CF-Cache-Status: HIT\n",
      "  Age: 1590\n",
      "  Server: cloudflare\n",
      "  CF-RAY: 840c6eef8f966fe7-CDG\n",
      "  Content-Encoding: gzip\n",
      "  alt-svc: h3=\":443\"; ma=86400\n",
      "\n",
      "Response Body:\n",
      "{\n",
      "  \"userId\": 1,\n",
      "  \"id\": 1,\n",
      "  \"title\": \"sunt aut facere repellat provident occaecati excepturi optio reprehenderit\",\n",
      "  \"body\": \"quia et suscipit\\nsuscipit recusandae consequuntur expedita et cum\\nreprehenderit molestiae ut ut quas totam\\nnostrum rerum est autem sunt rem eveniet architecto\"\n",
      "}\n"
     ]
    }
   ],
   "source": [
    "# Check if necessary libraries are installed and install them if not\n",
    "try:\n",
    "    import json\n",
    "    import requests\n",
    "except ImportError:\n",
    "    !pip install json\n",
    "    !pip install requests\n",
    "    import json\n",
    "    import requests\n",
    "\n",
    "# Import necessary libraries\n",
    "import json\n",
    "import requests\n",
    "\n",
    "# Define the function for sending API requests\n",
    "def send_api_request(url, method=api_method, headers=None, data=None, params=None):\n",
    "    try:\n",
    "        response = requests.request(method, url, headers=headers, data=data, params=params)\n",
    "        print(f\"\\nRequest URL: {response.request.url}\")\n",
    "        print(f\"\\nRequest Method: {response.request.method}\")\n",
    "        print(f\"\\nResponse Status Code: {response.status_code}\")\n",
    "        print(\"\\nResponse Headers:\")\n",
    "        for key, value in response.headers.items():\n",
    "            print(f\"  {key}: {value}\")\n",
    "        return response\n",
    "    except requests.exceptions.RequestException as e:\n",
    "        print(f\"An error occurred: {e}\")\n",
    "        return None\n",
    "\n",
    "# Send the API request and display the response\n",
    "response = send_api_request(api_url, method=api_method, headers=request_headers, data=request_body, params=request_params)\n",
    "print(\"\\nResponse Body:\")\n",
    "print(json.dumps(response.json(), indent=2))\n"
   ]
  }
 ],
 "metadata": {
  "kernelspec": {
   "display_name": "Python 3",
   "language": "python",
   "name": "python3"
  },
  "language_info": {
   "codemirror_mode": {
    "name": "ipython",
    "version": 3
   },
   "file_extension": ".py",
   "mimetype": "text/x-python",
   "name": "python",
   "nbconvert_exporter": "python",
   "pygments_lexer": "ipython3",
   "version": "3.10.6"
  }
 },
 "nbformat": 4,
 "nbformat_minor": 5
}
